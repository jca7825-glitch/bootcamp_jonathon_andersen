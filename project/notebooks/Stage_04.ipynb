{
 "cells": [
  {
   "cell_type": "code",
   "execution_count": 2,
   "id": "751f53ee-154e-443c-ac93-8332a68d9115",
   "metadata": {},
   "outputs": [],
   "source": [
    "from dotenv import load_dotenv\n",
    "import os,sys\n",
    "sys.path.append(os.path.abspath(\"..\"))\n",
    "from src import Api_Data_Puller\n",
    "\n",
    "import os"
   ]
  },
  {
   "cell_type": "code",
   "execution_count": 3,
   "id": "70a8f494-1168-47b3-9666-da708f26150d",
   "metadata": {},
   "outputs": [
    {
     "name": "stdout",
     "output_type": "stream",
     "text": [
      "True\n"
     ]
    }
   ],
   "source": [
    "load_dotenv('../.env')\n",
    "api_key = os.getenv('API_KEY')\n",
    "if api_key != None: print(True)"
   ]
  },
  {
   "cell_type": "code",
   "execution_count": 8,
   "id": "c75932ab-3278-4014-946a-c66c9a4a565d",
   "metadata": {},
   "outputs": [
    {
     "name": "stdout",
     "output_type": "stream",
     "text": [
      "Using Alpha Vantage: True\n",
      "Saved: ..\\data\\raw\\api_source-alpha_symbol-VIXY_20250823.csv\n"
     ]
    }
   ],
   "source": [
    "Api_Data_Puller.Alpha_Pull('VIXY')"
   ]
  },
  {
   "cell_type": "code",
   "execution_count": null,
   "id": "4babcff9-be19-44a0-99a1-f7ab36a3bfb9",
   "metadata": {},
   "outputs": [],
   "source": []
  }
 ],
 "metadata": {
  "kernelspec": {
   "display_name": "Python (bootcamp_env)",
   "language": "python",
   "name": "bootcamp_env"
  },
  "language_info": {
   "codemirror_mode": {
    "name": "ipython",
    "version": 3
   },
   "file_extension": ".py",
   "mimetype": "text/x-python",
   "name": "python",
   "nbconvert_exporter": "python",
   "pygments_lexer": "ipython3",
   "version": "3.10.18"
  }
 },
 "nbformat": 4,
 "nbformat_minor": 5
}
