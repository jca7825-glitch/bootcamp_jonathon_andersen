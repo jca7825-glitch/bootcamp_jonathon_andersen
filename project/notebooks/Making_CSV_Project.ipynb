{
 "cells": [
  {
   "cell_type": "code",
   "execution_count": 10,
   "id": "cbaae0f0-8416-42f8-93ce-8975e0b23492",
   "metadata": {},
   "outputs": [],
   "source": [
    "import os,sys\n",
    "import pandas as pd\n",
    "sys.path.append(os.path.abspath(\"..\"))\n",
    "from src import Merge\n",
    "from src import cleaning"
   ]
  },
  {
   "cell_type": "code",
   "execution_count": 2,
   "id": "d2d1b438-89c7-42e2-8d86-52bbb06f1776",
   "metadata": {},
   "outputs": [
    {
     "data": {
      "text/plain": [
       "Index(['date', 'VOO_close'], dtype='object')"
      ]
     },
     "execution_count": 2,
     "metadata": {},
     "output_type": "execute_result"
    }
   ],
   "source": [
    "df = pd.read_csv('../data/raw/api_source-alpha_symbol-VOO_20250823.csv')\n",
    "df.columns"
   ]
  },
  {
   "cell_type": "code",
   "execution_count": 16,
   "id": "8895e492-2818-4350-b48c-6258f47def59",
   "metadata": {},
   "outputs": [],
   "source": [
    "df = Merge.CSV_Merger(['api_source-alpha_symbol-VTI_20250823','api_source-alpha_symbol-VOO_20250823','api_source-alpha_symbol-SPY_20250823','api_source-alpha_symbol-SCHD_20250823','api_source-alpha_symbol-VIXY_20250823'])"
   ]
  },
  {
   "cell_type": "code",
   "execution_count": 17,
   "id": "bbac8527-cb32-49ea-9d47-306feedab942",
   "metadata": {},
   "outputs": [
    {
     "data": {
      "text/html": [
       "<div>\n",
       "<style scoped>\n",
       "    .dataframe tbody tr th:only-of-type {\n",
       "        vertical-align: middle;\n",
       "    }\n",
       "\n",
       "    .dataframe tbody tr th {\n",
       "        vertical-align: top;\n",
       "    }\n",
       "\n",
       "    .dataframe thead th {\n",
       "        text-align: right;\n",
       "    }\n",
       "</style>\n",
       "<table border=\"1\" class=\"dataframe\">\n",
       "  <thead>\n",
       "    <tr style=\"text-align: right;\">\n",
       "      <th></th>\n",
       "      <th>date</th>\n",
       "      <th>VTI_close</th>\n",
       "      <th>VOO_close</th>\n",
       "      <th>SPY_close</th>\n",
       "      <th>SCHD_close</th>\n",
       "      <th>VIXY_close</th>\n",
       "    </tr>\n",
       "  </thead>\n",
       "  <tbody>\n",
       "    <tr>\n",
       "      <th>0</th>\n",
       "      <td>1999-11-01</td>\n",
       "      <td>NaN</td>\n",
       "      <td>NaN</td>\n",
       "      <td>135.5625</td>\n",
       "      <td>NaN</td>\n",
       "      <td>NaN</td>\n",
       "    </tr>\n",
       "    <tr>\n",
       "      <th>1</th>\n",
       "      <td>1999-11-02</td>\n",
       "      <td>NaN</td>\n",
       "      <td>NaN</td>\n",
       "      <td>134.5937</td>\n",
       "      <td>NaN</td>\n",
       "      <td>NaN</td>\n",
       "    </tr>\n",
       "    <tr>\n",
       "      <th>2</th>\n",
       "      <td>1999-11-03</td>\n",
       "      <td>NaN</td>\n",
       "      <td>NaN</td>\n",
       "      <td>135.5000</td>\n",
       "      <td>NaN</td>\n",
       "      <td>NaN</td>\n",
       "    </tr>\n",
       "    <tr>\n",
       "      <th>3</th>\n",
       "      <td>1999-11-04</td>\n",
       "      <td>NaN</td>\n",
       "      <td>NaN</td>\n",
       "      <td>136.5312</td>\n",
       "      <td>NaN</td>\n",
       "      <td>NaN</td>\n",
       "    </tr>\n",
       "    <tr>\n",
       "      <th>4</th>\n",
       "      <td>1999-11-05</td>\n",
       "      <td>NaN</td>\n",
       "      <td>NaN</td>\n",
       "      <td>137.8750</td>\n",
       "      <td>NaN</td>\n",
       "      <td>NaN</td>\n",
       "    </tr>\n",
       "    <tr>\n",
       "      <th>...</th>\n",
       "      <td>...</td>\n",
       "      <td>...</td>\n",
       "      <td>...</td>\n",
       "      <td>...</td>\n",
       "      <td>...</td>\n",
       "      <td>...</td>\n",
       "    </tr>\n",
       "    <tr>\n",
       "      <th>6487</th>\n",
       "      <td>2025-08-18</td>\n",
       "      <td>316.59</td>\n",
       "      <td>591.36</td>\n",
       "      <td>643.3000</td>\n",
       "      <td>27.26</td>\n",
       "      <td>37.110</td>\n",
       "    </tr>\n",
       "    <tr>\n",
       "      <th>6488</th>\n",
       "      <td>2025-08-19</td>\n",
       "      <td>314.67</td>\n",
       "      <td>588.13</td>\n",
       "      <td>639.8100</td>\n",
       "      <td>27.45</td>\n",
       "      <td>37.850</td>\n",
       "    </tr>\n",
       "    <tr>\n",
       "      <th>6489</th>\n",
       "      <td>2025-08-20</td>\n",
       "      <td>313.84</td>\n",
       "      <td>586.58</td>\n",
       "      <td>638.1100</td>\n",
       "      <td>27.51</td>\n",
       "      <td>37.610</td>\n",
       "    </tr>\n",
       "    <tr>\n",
       "      <th>6490</th>\n",
       "      <td>2025-08-21</td>\n",
       "      <td>312.76</td>\n",
       "      <td>584.27</td>\n",
       "      <td>635.5500</td>\n",
       "      <td>27.52</td>\n",
       "      <td>38.185</td>\n",
       "    </tr>\n",
       "    <tr>\n",
       "      <th>6491</th>\n",
       "      <td>2025-08-22</td>\n",
       "      <td>318.18</td>\n",
       "      <td>593.21</td>\n",
       "      <td>645.3100</td>\n",
       "      <td>27.95</td>\n",
       "      <td>35.190</td>\n",
       "    </tr>\n",
       "  </tbody>\n",
       "</table>\n",
       "<p>6492 rows × 6 columns</p>\n",
       "</div>"
      ],
      "text/plain": [
       "            date  VTI_close  VOO_close  SPY_close  SCHD_close  VIXY_close\n",
       "0     1999-11-01        NaN        NaN   135.5625         NaN         NaN\n",
       "1     1999-11-02        NaN        NaN   134.5937         NaN         NaN\n",
       "2     1999-11-03        NaN        NaN   135.5000         NaN         NaN\n",
       "3     1999-11-04        NaN        NaN   136.5312         NaN         NaN\n",
       "4     1999-11-05        NaN        NaN   137.8750         NaN         NaN\n",
       "...          ...        ...        ...        ...         ...         ...\n",
       "6487  2025-08-18     316.59     591.36   643.3000       27.26      37.110\n",
       "6488  2025-08-19     314.67     588.13   639.8100       27.45      37.850\n",
       "6489  2025-08-20     313.84     586.58   638.1100       27.51      37.610\n",
       "6490  2025-08-21     312.76     584.27   635.5500       27.52      38.185\n",
       "6491  2025-08-22     318.18     593.21   645.3100       27.95      35.190\n",
       "\n",
       "[6492 rows x 6 columns]"
      ]
     },
     "execution_count": 17,
     "metadata": {},
     "output_type": "execute_result"
    }
   ],
   "source": [
    "df"
   ]
  },
  {
   "cell_type": "code",
   "execution_count": 19,
   "id": "50b5ce8f-d5a2-46f5-8857-b9d0c336d6a0",
   "metadata": {},
   "outputs": [
    {
     "data": {
      "text/plain": [
       "Index(['date', 'VTI_close', 'VOO_close', 'SPY_close', 'SCHD_close',\n",
       "       'VIXY_close'],\n",
       "      dtype='object')"
      ]
     },
     "execution_count": 19,
     "metadata": {},
     "output_type": "execute_result"
    }
   ],
   "source": [
    "#df.to_csv('../data/raw/Merged.csv', index=False)\n",
    "df.columns"
   ]
  },
  {
   "cell_type": "code",
   "execution_count": 20,
   "id": "fffd14c7-b5b5-4cf2-99c2-85f766fa5f5a",
   "metadata": {},
   "outputs": [],
   "source": [
    "df_dropped = cleaning.drop_missing(df,['VTI_close', 'VOO_close', 'SPY_close', 'SCHD_close','VIXY_close'],1)\n",
    "df_dropped.to_csv('../data/processed/Merged_full.csv')"
   ]
  },
  {
   "cell_type": "code",
   "execution_count": null,
   "id": "61588f0c-9942-43aa-bcde-a08ce670ab98",
   "metadata": {},
   "outputs": [],
   "source": []
  }
 ],
 "metadata": {
  "kernelspec": {
   "display_name": "Python (bootcamp_env)",
   "language": "python",
   "name": "bootcamp_env"
  },
  "language_info": {
   "codemirror_mode": {
    "name": "ipython",
    "version": 3
   },
   "file_extension": ".py",
   "mimetype": "text/x-python",
   "name": "python",
   "nbconvert_exporter": "python",
   "pygments_lexer": "ipython3",
   "version": "3.10.18"
  }
 },
 "nbformat": 4,
 "nbformat_minor": 5
}
