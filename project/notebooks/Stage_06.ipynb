{
 "cells": [
  {
   "cell_type": "code",
   "execution_count": 7,
   "id": "72b1c74b-519f-4e0a-ab3b-d18647068cbd",
   "metadata": {},
   "outputs": [],
   "source": [
    "from dotenv import load_dotenv\n",
    "import pandas as pd\n",
    "import numpy as np\n",
    "import os,sys\n",
    "sys.path.append(os.path.abspath(\"..\"))\n",
    "from src import cleaning"
   ]
  },
  {
   "cell_type": "code",
   "execution_count": 8,
   "id": "1946aeae-dfc4-493e-90e9-dfd7438ad4a6",
   "metadata": {},
   "outputs": [
    {
     "name": "stdout",
     "output_type": "stream",
     "text": [
      "['MinMaxScaler', 'StandardScaler', '__builtins__', '__cached__', '__doc__', '__file__', '__loader__', '__name__', '__package__', '__spec__', 'drop_missing', 'fill_missing_median', 'normalize_data']\n"
     ]
    }
   ],
   "source": [
    "print(dir(cleaning))"
   ]
  },
  {
   "cell_type": "code",
   "execution_count": 5,
   "id": "9b5328c5-4d3a-48f1-9a43-207d8f7d0aa0",
   "metadata": {},
   "outputs": [],
   "source": [
    "\n",
    "df = pd.read_csv('../data/raw/api_source-alpha_symbol-SPY_20250820.csv')"
   ]
  },
  {
   "cell_type": "code",
   "execution_count": 6,
   "id": "db10a5d9-fd2f-4956-ae73-09867c012ae9",
   "metadata": {},
   "outputs": [
    {
     "data": {
      "text/html": [
       "<div>\n",
       "<style scoped>\n",
       "    .dataframe tbody tr th:only-of-type {\n",
       "        vertical-align: middle;\n",
       "    }\n",
       "\n",
       "    .dataframe tbody tr th {\n",
       "        vertical-align: top;\n",
       "    }\n",
       "\n",
       "    .dataframe thead th {\n",
       "        text-align: right;\n",
       "    }\n",
       "</style>\n",
       "<table border=\"1\" class=\"dataframe\">\n",
       "  <thead>\n",
       "    <tr style=\"text-align: right;\">\n",
       "      <th></th>\n",
       "      <th>date</th>\n",
       "      <th>SPY_close</th>\n",
       "    </tr>\n",
       "  </thead>\n",
       "  <tbody>\n",
       "    <tr>\n",
       "      <th>0</th>\n",
       "      <td>2025-08-20</td>\n",
       "      <td>638.11</td>\n",
       "    </tr>\n",
       "    <tr>\n",
       "      <th>1</th>\n",
       "      <td>2025-08-19</td>\n",
       "      <td>639.81</td>\n",
       "    </tr>\n",
       "    <tr>\n",
       "      <th>2</th>\n",
       "      <td>2025-08-18</td>\n",
       "      <td>643.30</td>\n",
       "    </tr>\n",
       "    <tr>\n",
       "      <th>3</th>\n",
       "      <td>2025-08-15</td>\n",
       "      <td>643.44</td>\n",
       "    </tr>\n",
       "    <tr>\n",
       "      <th>4</th>\n",
       "      <td>2025-08-14</td>\n",
       "      <td>644.95</td>\n",
       "    </tr>\n",
       "    <tr>\n",
       "      <th>...</th>\n",
       "      <td>...</td>\n",
       "      <td>...</td>\n",
       "    </tr>\n",
       "    <tr>\n",
       "      <th>95</th>\n",
       "      <td>2025-04-03</td>\n",
       "      <td>536.70</td>\n",
       "    </tr>\n",
       "    <tr>\n",
       "      <th>96</th>\n",
       "      <td>2025-04-02</td>\n",
       "      <td>564.52</td>\n",
       "    </tr>\n",
       "    <tr>\n",
       "      <th>97</th>\n",
       "      <td>2025-04-01</td>\n",
       "      <td>560.97</td>\n",
       "    </tr>\n",
       "    <tr>\n",
       "      <th>98</th>\n",
       "      <td>2025-03-31</td>\n",
       "      <td>559.39</td>\n",
       "    </tr>\n",
       "    <tr>\n",
       "      <th>99</th>\n",
       "      <td>2025-03-28</td>\n",
       "      <td>555.66</td>\n",
       "    </tr>\n",
       "  </tbody>\n",
       "</table>\n",
       "<p>100 rows × 2 columns</p>\n",
       "</div>"
      ],
      "text/plain": [
       "          date  SPY_close\n",
       "0   2025-08-20     638.11\n",
       "1   2025-08-19     639.81\n",
       "2   2025-08-18     643.30\n",
       "3   2025-08-15     643.44\n",
       "4   2025-08-14     644.95\n",
       "..         ...        ...\n",
       "95  2025-04-03     536.70\n",
       "96  2025-04-02     564.52\n",
       "97  2025-04-01     560.97\n",
       "98  2025-03-31     559.39\n",
       "99  2025-03-28     555.66\n",
       "\n",
       "[100 rows x 2 columns]"
      ]
     },
     "execution_count": 6,
     "metadata": {},
     "output_type": "execute_result"
    }
   ],
   "source": [
    "df"
   ]
  },
  {
   "cell_type": "code",
   "execution_count": 9,
   "id": "48ed3bb4-55b1-44d2-8896-06858f2f76e9",
   "metadata": {},
   "outputs": [],
   "source": [
    "df_standardized = cleaning.normalize_data(df,['SPY_close'])"
   ]
  },
  {
   "cell_type": "code",
   "execution_count": 10,
   "id": "7f767f14-4e71-4c53-ad20-563ac38ff616",
   "metadata": {},
   "outputs": [
    {
     "data": {
      "text/html": [
       "<div>\n",
       "<style scoped>\n",
       "    .dataframe tbody tr th:only-of-type {\n",
       "        vertical-align: middle;\n",
       "    }\n",
       "\n",
       "    .dataframe tbody tr th {\n",
       "        vertical-align: top;\n",
       "    }\n",
       "\n",
       "    .dataframe thead th {\n",
       "        text-align: right;\n",
       "    }\n",
       "</style>\n",
       "<table border=\"1\" class=\"dataframe\">\n",
       "  <thead>\n",
       "    <tr style=\"text-align: right;\">\n",
       "      <th></th>\n",
       "      <th>date</th>\n",
       "      <th>SPY_close</th>\n",
       "    </tr>\n",
       "  </thead>\n",
       "  <tbody>\n",
       "    <tr>\n",
       "      <th>0</th>\n",
       "      <td>2025-08-20</td>\n",
       "      <td>0.953930</td>\n",
       "    </tr>\n",
       "    <tr>\n",
       "      <th>1</th>\n",
       "      <td>2025-08-19</td>\n",
       "      <td>0.965380</td>\n",
       "    </tr>\n",
       "    <tr>\n",
       "      <th>2</th>\n",
       "      <td>2025-08-18</td>\n",
       "      <td>0.988887</td>\n",
       "    </tr>\n",
       "    <tr>\n",
       "      <th>3</th>\n",
       "      <td>2025-08-15</td>\n",
       "      <td>0.989830</td>\n",
       "    </tr>\n",
       "    <tr>\n",
       "      <th>4</th>\n",
       "      <td>2025-08-14</td>\n",
       "      <td>1.000000</td>\n",
       "    </tr>\n",
       "    <tr>\n",
       "      <th>...</th>\n",
       "      <td>...</td>\n",
       "      <td>...</td>\n",
       "    </tr>\n",
       "    <tr>\n",
       "      <th>95</th>\n",
       "      <td>2025-04-03</td>\n",
       "      <td>0.270896</td>\n",
       "    </tr>\n",
       "    <tr>\n",
       "      <th>96</th>\n",
       "      <td>2025-04-02</td>\n",
       "      <td>0.458274</td>\n",
       "    </tr>\n",
       "    <tr>\n",
       "      <th>97</th>\n",
       "      <td>2025-04-01</td>\n",
       "      <td>0.434364</td>\n",
       "    </tr>\n",
       "    <tr>\n",
       "      <th>98</th>\n",
       "      <td>2025-03-31</td>\n",
       "      <td>0.423722</td>\n",
       "    </tr>\n",
       "    <tr>\n",
       "      <th>99</th>\n",
       "      <td>2025-03-28</td>\n",
       "      <td>0.398599</td>\n",
       "    </tr>\n",
       "  </tbody>\n",
       "</table>\n",
       "<p>100 rows × 2 columns</p>\n",
       "</div>"
      ],
      "text/plain": [
       "          date  SPY_close\n",
       "0   2025-08-20   0.953930\n",
       "1   2025-08-19   0.965380\n",
       "2   2025-08-18   0.988887\n",
       "3   2025-08-15   0.989830\n",
       "4   2025-08-14   1.000000\n",
       "..         ...        ...\n",
       "95  2025-04-03   0.270896\n",
       "96  2025-04-02   0.458274\n",
       "97  2025-04-01   0.434364\n",
       "98  2025-03-31   0.423722\n",
       "99  2025-03-28   0.398599\n",
       "\n",
       "[100 rows x 2 columns]"
      ]
     },
     "execution_count": 10,
     "metadata": {},
     "output_type": "execute_result"
    }
   ],
   "source": [
    "df_standardized"
   ]
  },
  {
   "cell_type": "code",
   "execution_count": 11,
   "id": "848da432-89ee-478d-954f-e5a8236d5e0f",
   "metadata": {},
   "outputs": [],
   "source": [
    "## Assumptions \n",
    "# compiling larger data sets we'll start to see more missing data so the primary use here will be normalizing because most of the ETFs \n",
    "# are valued differently, so to standardize everything on the same value we would either need to compare % increase of a base investment\n",
    "# or normalize the data, hence the need to normalize."
   ]
  },
  {
   "cell_type": "code",
   "execution_count": null,
   "id": "580d7a29-b567-4464-a379-98f88d54992d",
   "metadata": {},
   "outputs": [],
   "source": []
  }
 ],
 "metadata": {
  "kernelspec": {
   "display_name": "Python (bootcamp_env)",
   "language": "python",
   "name": "bootcamp_env"
  },
  "language_info": {
   "codemirror_mode": {
    "name": "ipython",
    "version": 3
   },
   "file_extension": ".py",
   "mimetype": "text/x-python",
   "name": "python",
   "nbconvert_exporter": "python",
   "pygments_lexer": "ipython3",
   "version": "3.10.18"
  }
 },
 "nbformat": 4,
 "nbformat_minor": 5
}
