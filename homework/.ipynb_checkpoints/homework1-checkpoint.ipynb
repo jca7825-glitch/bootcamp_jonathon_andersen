{
 "cells": [
  {
   "cell_type": "code",
   "execution_count": 1,
   "id": "2aadbee1-771d-48ed-9f8c-156fc9115da4",
   "metadata": {},
   "outputs": [
    {
     "name": "stdout",
     "output_type": "stream",
     "text": [
      "all project fields and notebooks added to repo\n"
     ]
    }
   ],
   "source": [
    "print(\"all project fields and notebooks added to repo\")"
   ]
  },
  {
   "cell_type": "code",
   "execution_count": null,
   "id": "8cf7e80c-cb7b-4238-bc9b-9534880f574f",
   "metadata": {},
   "outputs": [],
   "source": []
  }
 ],
 "metadata": {
  "kernelspec": {
   "display_name": "Python (bootcamp_env)",
   "language": "python",
   "name": "bootcamp_env"
  },
  "language_info": {
   "codemirror_mode": {
    "name": "ipython",
    "version": 3
   },
   "file_extension": ".py",
   "mimetype": "text/x-python",
   "name": "python",
   "nbconvert_exporter": "python",
   "pygments_lexer": "ipython3",
   "version": "3.10.18"
  }
 },
 "nbformat": 4,
 "nbformat_minor": 5
}
