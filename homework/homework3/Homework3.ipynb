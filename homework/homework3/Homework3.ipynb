{
 "cells": [
  {
   "cell_type": "code",
   "execution_count": 11,
   "id": "c98a8940-743e-4cf0-bbc8-f0091768d94d",
   "metadata": {},
   "outputs": [],
   "source": [
    "import numpy as np\n",
    "import pandas as pd\n",
    "import matplotlib.pyplot as plt\n",
    "from datetime import datetime\n",
    "import random"
   ]
  },
  {
   "cell_type": "code",
   "execution_count": 12,
   "id": "d876f5bd-e08a-4625-b133-88e8aef01996",
   "metadata": {},
   "outputs": [
    {
     "name": "stdout",
     "output_type": "stream",
     "text": [
      "374 ms ± 13.6 ms per loop (mean ± std. dev. of 7 runs, 1 loop each)\n",
      "6.84 ms ± 105 μs per loop (mean ± std. dev. of 7 runs, 100 loops each)\n"
     ]
    }
   ],
   "source": [
    "big_array = np.arange(1_000_000)\n",
    "\n",
    "%timeit [x*2 for x in big_array]\n",
    "%timeit big_array * 2"
   ]
  },
  {
   "cell_type": "code",
   "execution_count": 16,
   "id": "1cabe93d-8e75-441a-b627-088f89ec58a0",
   "metadata": {},
   "outputs": [
    {
     "name": "stdout",
     "output_type": "stream",
     "text": [
      "[689, 887, 986, 656, 720, 793, 34, 541, 295, 83]\n"
     ]
    },
    {
     "data": {
      "text/plain": [
       "(np.float64(568.4), np.float64(311.1649723217573))"
      ]
     },
     "execution_count": 16,
     "metadata": {},
     "output_type": "execute_result"
    }
   ],
   "source": [
    "def calc_mean_std(lst):\n",
    "    arr=np.array(lst)\n",
    "    return arr.mean(), arr.std()\n",
    "    \n",
    "#I wanted to explore the random module a little more so I wanted to have the list change each time it runs :)\n",
    "\n",
    "x=[]\n",
    "for i in range(10):\n",
    "    x.append(random.randint(1,1000))\n",
    "    \n",
    "#List above takes 10 random elements appends each one in the loop and then prints it below and calls the function for mean and standard def too\n",
    "\n",
    "print(x)\n",
    "calc_mean_std(x)"
   ]
  },
  {
   "cell_type": "code",
   "execution_count": 17,
   "id": "bdf4cc2d-6b0c-404e-a42f-28c33cfb16a6",
   "metadata": {},
   "outputs": [
    {
     "name": "stdout",
     "output_type": "stream",
     "text": [
      "<class 'pandas.core.frame.DataFrame'>\n",
      "RangeIndex: 10 entries, 0 to 9\n",
      "Data columns (total 3 columns):\n",
      " #   Column    Non-Null Count  Dtype \n",
      "---  ------    --------------  ----- \n",
      " 0   category  10 non-null     object\n",
      " 1   value     10 non-null     int64 \n",
      " 2   date      10 non-null     object\n",
      "dtypes: int64(1), object(2)\n",
      "memory usage: 368.0+ bytes\n"
     ]
    },
    {
     "data": {
      "text/plain": [
       "(None,\n",
       "   category  value        date\n",
       " 0        A     10  2025-08-01\n",
       " 1        B     15  2025-08-02\n",
       " 2        A     12  2025-08-03\n",
       " 3        B     18  2025-08-04\n",
       " 4        C     25  2025-08-05)"
      ]
     },
     "execution_count": 17,
     "metadata": {},
     "output_type": "execute_result"
    }
   ],
   "source": [
    "df= pd.read_csv(\"data/starter_data.csv\")\n",
    "df.info(), df.head()"
   ]
  },
  {
   "cell_type": "code",
   "execution_count": 20,
   "id": "2895e7d4-c75c-4d40-949e-b200e3880258",
   "metadata": {},
   "outputs": [
    {
     "data": {
      "text/html": [
       "<div>\n",
       "<style scoped>\n",
       "    .dataframe tbody tr th:only-of-type {\n",
       "        vertical-align: middle;\n",
       "    }\n",
       "\n",
       "    .dataframe tbody tr th {\n",
       "        vertical-align: top;\n",
       "    }\n",
       "\n",
       "    .dataframe thead th {\n",
       "        text-align: right;\n",
       "    }\n",
       "</style>\n",
       "<table border=\"1\" class=\"dataframe\">\n",
       "  <thead>\n",
       "    <tr style=\"text-align: right;\">\n",
       "      <th></th>\n",
       "      <th>category</th>\n",
       "      <th>value</th>\n",
       "    </tr>\n",
       "  </thead>\n",
       "  <tbody>\n",
       "    <tr>\n",
       "      <th>0</th>\n",
       "      <td>A</td>\n",
       "      <td>11.500000</td>\n",
       "    </tr>\n",
       "    <tr>\n",
       "      <th>1</th>\n",
       "      <td>B</td>\n",
       "      <td>15.666667</td>\n",
       "    </tr>\n",
       "    <tr>\n",
       "      <th>2</th>\n",
       "      <td>C</td>\n",
       "      <td>27.666667</td>\n",
       "    </tr>\n",
       "  </tbody>\n",
       "</table>\n",
       "</div>"
      ],
      "text/plain": [
       "  category      value\n",
       "0        A  11.500000\n",
       "1        B  15.666667\n",
       "2        C  27.666667"
      ]
     },
     "execution_count": 20,
     "metadata": {},
     "output_type": "execute_result"
    }
   ],
   "source": [
    "df.describe()\n",
    "summary = df.groupby(\"category\").mean(numeric_only=True).reset_index()\n",
    "summary.to_csv(\"data/processed/summary.csv\",index=False)\n",
    "#Content above takes data from the starter csv, takes the mean of the given A,B, and C values then adds a summary file into the summary.csv document\n",
    "summary"
   ]
  },
  {
   "cell_type": "code",
   "execution_count": 29,
   "id": "7c221ac0-f5d3-4251-9ff9-8c3711536d39",
   "metadata": {},
   "outputs": [
    {
     "data": {
      "image/png": "[encoded data removed]",
      "text/plain": [
       "<Figure size 640x480 with 1 Axes>"
      ]
     },
     "metadata": {},
     "output_type": "display_data"
    }
   ],
   "source": [
    "group=df.groupby(\"category\")[\"value\"].mean()\n",
    "group.plot(kind=\"bar\")\n",
    "plt.savefig(\"data/processed/histogram.png\")"
   ]
  },
  {
   "cell_type": "code",
   "execution_count": 44,
   "id": "e753ec14-7f54-4413-80aa-0b5a1d5d00f6",
   "metadata": {},
   "outputs": [
    {
     "name": "stdout",
     "output_type": "stream",
     "text": [
      "  category  value_mean  value_std\n",
      "0        A   11.500000   1.290994\n",
      "1        B   15.666667   2.081666\n",
      "2        C   27.666667   2.516611\n"
     ]
    }
   ],
   "source": [
    "def get_summary_stats(df):\n",
    "    numeric_cols=df.select_dtypes(include='number').columns\n",
    "\n",
    "    means = df.groupby('category')[numeric_cols].mean().reset_index()\n",
    "    std = df.groupby('category')[numeric_cols].std().reset_index()\n",
    "\n",
    "    means = means.rename(columns={col: f\"{col}_mean\" for col in numeric_cols})\n",
    "    std = std.rename(columns={col: f\"{col}_std\" for col in numeric_cols})\n",
    "\n",
    "    summary=pd.merge(means, std, on='category')\n",
    "    return summary\n",
    "print(get_summary_stats(df))\n",
    "    "
   ]
  },
  {
   "cell_type": "code",
   "execution_count": null,
   "id": "0e5be804-3e33-4439-9251-0e92a5a00b5a",
   "metadata": {},
   "outputs": [],
   "source": []
  }
 ],
 "metadata": {
  "kernelspec": {
   "display_name": "Python (bootcamp_env)",
   "language": "python",
   "name": "bootcamp_env"
  },
  "language_info": {
   "codemirror_mode": {
    "name": "ipython",
    "version": 3
   },
   "file_extension": ".py",
   "mimetype": "text/x-python",
   "name": "python",
   "nbconvert_exporter": "python",
   "pygments_lexer": "ipython3",
   "version": "3.10.18"
  }
 },
 "nbformat": 4,
 "nbformat_minor": 5
}
