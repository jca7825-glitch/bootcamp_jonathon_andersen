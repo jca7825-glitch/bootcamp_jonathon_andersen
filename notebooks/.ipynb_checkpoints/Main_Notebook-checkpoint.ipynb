{
 "cells": [
  {
   "cell_type": "code",
   "execution_count": null,
   "id": "e2a408db-ffd1-4304-b624-ab39b10873ff",
   "metadata": {},
   "outputs": [],
   "source": [
    "#For the stakeholders the primary problem is market effectiveness, if the ETF fails in comparison to previous years or against the market the outlook will be negative against them and their work.\n",
    "#The goal will be to decern between the factors that contribute to the success of the ETF and what may have changed from this year to the next.\n",
    "#The most importance being held on the latter as using incorrect data or even data that is too heavily correlated with another could lead to false positives.\n"
   ]
  }
 ],
 "metadata": {
  "kernelspec": {
   "display_name": "Python (bootcamp_env)",
   "language": "python",
   "name": "bootcamp_env"
  },
  "language_info": {
   "codemirror_mode": {
    "name": "ipython",
    "version": 3
   },
   "file_extension": ".py",
   "mimetype": "text/x-python",
   "name": "python",
   "nbconvert_exporter": "python",
   "pygments_lexer": "ipython3",
   "version": "3.10.18"
  }
 },
 "nbformat": 4,
 "nbformat_minor": 5
}
